{
 "cells": [
  {
   "cell_type": "code",
   "execution_count": 1,
   "id": "3811ad18",
   "metadata": {},
   "outputs": [
    {
     "name": "stdout",
     "output_type": "stream",
     "text": [
      "Using existing train file: output_train.txt\n",
      "Using existing validation file: output_valid.txt\n"
     ]
    }
   ],
   "source": [
    "import os\n",
    "import pandas as pd\n",
    "from tqdm import tqdm\n",
    "\n",
    "# Define existing data files\n",
    "input_train_file = \"output_train.txt\"\n",
    "input_val_file = \"output_valid.txt\"\n",
    "vocab_file = \"vocab.txt\"\n",
    "\n",
    "print(f\"Using existing train file: {input_train_file}\")\n",
    "print(f\"Using existing validation file: {input_val_file}\")\n",
    "\n",
    "# Function to collect vocabulary from a file\n",
    "def collect_vocab_from_file(file_path):\n",
    "    vocab = set()\n",
    "    line_count = 0\n",
    "    \n",
    "    # Check if file exists\n",
    "    if not os.path.exists(file_path):\n",
    "        print(f\"Warning: File {file_path} does not exist!\")\n",
    "        return vocab, line_count\n",
    "    \n",
    "    # Count lines first for the progress bar\n",
    "    with open(file_path, 'r', encoding='utf-8') as f:\n",
    "        for _ in f:\n",
    "            line_count += 1\n",
    "    \n",
    "    # Process the file and collect vocabulary\n",
    "    with open(file_path, 'r', encoding='utf-8') as f:\n",
    "        for line in tqdm(f, total=line_count, desc=f\"Processing {os.path.basename(file_path)}\"):\n",
    "            # Add all characters to vocabulary\n",
    "            vocab.update(set(line))\n",
    "    \n",
    "    return vocab, line_count"
   ]
  },
  {
   "cell_type": "code",
   "execution_count": 2,
   "id": "a47e2cdd",
   "metadata": {},
   "outputs": [
    {
     "name": "stderr",
     "output_type": "stream",
     "text": [
      "Processing output_train.txt: 100%|██████████| 1665576/1665576 [00:02<00:00, 562422.37it/s]\n",
      "Processing output_train.txt: 100%|██████████| 1665576/1665576 [00:02<00:00, 562422.37it/s]\n",
      "Processing output_valid.txt: 100%|██████████| 3590/3590 [00:00<00:00, 469536.04it/s]"
     ]
    },
    {
     "name": "stdout",
     "output_type": "stream",
     "text": [
      "\n",
      "Training file: 1,665,576 lines with 4,795 unique characters\n",
      "Validation file: 3,590 lines with 273 unique characters\n",
      "Combined vocabulary: 4,822 unique characters\n",
      "Vocabulary saved to vocab.txt\n"
     ]
    },
    {
     "name": "stderr",
     "output_type": "stream",
     "text": [
      "\n"
     ]
    }
   ],
   "source": [
    "# Process training and validation files to collect vocabulary\n",
    "train_vocab, train_lines = collect_vocab_from_file(input_train_file)\n",
    "val_vocab, val_lines = collect_vocab_from_file(input_val_file)\n",
    "\n",
    "# Display statistics\n",
    "print(f\"\\nTraining file: {train_lines:,} lines with {len(train_vocab):,} unique characters\")\n",
    "print(f\"Validation file: {val_lines:,} lines with {len(val_vocab):,} unique characters\")\n",
    "\n",
    "# Combine vocabularies and write to vocab.txt\n",
    "combined_vocab = train_vocab.union(val_vocab)\n",
    "print(f\"Combined vocabulary: {len(combined_vocab):,} unique characters\")\n",
    "\n",
    "with open(vocab_file, \"w\", encoding=\"utf-8\") as vfile:\n",
    "    for char in sorted(combined_vocab):\n",
    "        vfile.write(char + '\\n')\n",
    "\n",
    "print(f\"Vocabulary saved to {vocab_file}\")"
   ]
  },
  {
   "cell_type": "code",
   "execution_count": 3,
   "id": "91b49333",
   "metadata": {},
   "outputs": [
    {
     "data": {
      "image/png": "[encoded data removed]",
      "text/plain": [
       "<Figure size 1000x600 with 1 Axes>"
      ]
     },
     "metadata": {},
     "output_type": "display_data"
    }
   ],
   "source": [
    "# Analyze the vocabulary\n",
    "import matplotlib.pyplot as plt\n",
    "import numpy as np\n",
    "\n",
    "# Read the vocabulary file\n",
    "with open(vocab_file, 'r', encoding='utf-8') as f:\n",
    "    vocab_chars = [line.strip() for line in f if line.strip()]\n",
    "\n",
    "# Count character types\n",
    "letter_count = sum(1 for c in vocab_chars if c.isalpha())\n",
    "digit_count = sum(1 for c in vocab_chars if c.isdigit())\n",
    "punctuation_count = sum(1 for c in vocab_chars if not c.isalnum() and not c.isspace())\n",
    "whitespace_count = sum(1 for c in vocab_chars if c.isspace())\n",
    "other_count = len(vocab_chars) - letter_count - digit_count - punctuation_count - whitespace_count\n",
    "\n",
    "# Display character type distribution\n",
    "char_types = ['Letters', 'Digits', 'Punctuation', 'Whitespace', 'Other']\n",
    "counts = [letter_count, digit_count, punctuation_count, whitespace_count, other_count]\n",
    "\n",
    "plt.figure(figsize=(10, 6))\n",
    "plt.bar(char_types, counts)\n",
    "plt.title('Vocabulary Character Type Distribution')\n",
    "plt.ylabel('Count')\n",
    "for i, count in enumerate(counts):\n",
    "    plt.text(i, count + 0.5, str(count), ha='center')\n",
    "plt.show()"
   ]
  },
  {
   "cell_type": "code",
   "execution_count": null,
   "id": "c2b6c8dc",
   "metadata": {},
   "outputs": [],
   "source": []
  }
 ],
 "metadata": {
  "kernelspec": {
   "display_name": "nlp",
   "language": "python",
   "name": "python3"
  },
  "language_info": {
   "codemirror_mode": {
    "name": "ipython",
    "version": 3
   },
   "file_extension": ".py",
   "mimetype": "text/x-python",
   "name": "python",
   "nbconvert_exporter": "python",
   "pygments_lexer": "ipython3",
   "version": "3.12.9"
  }
 },
 "nbformat": 4,
 "nbformat_minor": 5
}
