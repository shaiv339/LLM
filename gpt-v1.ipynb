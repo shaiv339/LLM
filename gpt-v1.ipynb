{
 "cells": [
  {
   "cell_type": "code",
   "execution_count": 26,
   "id": "c351b7b9",
   "metadata": {},
   "outputs": [
    {
     "name": "stdout",
     "output_type": "stream",
     "text": [
      "cuda\n"
     ]
    }
   ],
   "source": [
    "import torch\n",
    "import torch.nn as nn\n",
    "from torch.nn import functional as F\n",
    "import mmap\n",
    "import random\n",
    "import pickle\n",
    "import argparse\n",
    "\n",
    "parser = argparse.ArgumentParser(description='This is a demonstration program')\n",
    "\n",
    "# parser.add_argument('-batch_size', type=str, required=True, help='Please provide a batch_size')\n",
    "\n",
    "# args = parser.parse_args()\n",
    "\n",
    "# print(f'batch size: {args.batch_size}')\n",
    "device = 'cuda' if torch.cuda.is_available() else 'cpu'\n",
    "\n",
    "# batch_size = args.batch_size # to use the batch_size cmd arg -> python file_name.py -batch_size 32\n",
    "batch_size = 64\n",
    "block_size = 256\n",
    "max_iters = 10000\n",
    "learning_rate = 2e-5\n",
    "eval_iters = 100\n",
    "n_embd = 384\n",
    "n_head = 4\n",
    "# n_layer = 24\n",
    "n_layer = 4\n",
    "dropout = 0.2\n",
    "\n",
    "print(device)"
   ]
  },
  {
   "cell_type": "code",
   "execution_count": 27,
   "id": "516b1cf6",
   "metadata": {},
   "outputs": [],
   "source": [
    "chars = \"\"\n",
    "with open(\"vocab.txt\", 'r', encoding='utf-8') as f:\n",
    "        text = f.read()\n",
    "        chars = sorted(list(set(text)))\n",
    "        \n",
    "vocab_size = len(chars)"
   ]
  },
  {
   "cell_type": "code",
   "execution_count": 28,
   "id": "506ad003",
   "metadata": {},
   "outputs": [],
   "source": [
    "string_to_int = { ch:i for i,ch in enumerate(chars) }\n",
    "int_to_string = { i:ch for i,ch in enumerate(chars) }\n",
    "encode = lambda s: [string_to_int[c] for c in s]\n",
    "decode = lambda l: ''.join([int_to_string[i] for i in l])"
   ]
  },
  {
   "cell_type": "code",
   "execution_count": 29,
   "id": "7c5efd26",
   "metadata": {},
   "outputs": [],
   "source": [
    "# memory map for using small snippets of text from a single file of any size\n",
    "def get_random_chunk(split):\n",
    "    filename = \"openwebtext_train.txt\" if split == 'train' else \"openwebtext_valid.txt\"\n",
    "    # filename = \"output_train.txt\" if split == 'train' else \"output_valid.txt\"\n",
    "    with open(filename, 'rb') as f:\n",
    "        with mmap.mmap(f.fileno(), 0, access=mmap.ACCESS_READ) as mm:\n",
    "            # Determine the file size and a random position to start reading\n",
    "            file_size = len(mm)\n",
    "            start_pos = random.randint(0, (file_size) - block_size*batch_size)\n",
    "\n",
    "            # Seek to the random position and read the block of text\n",
    "            mm.seek(start_pos)\n",
    "            block = mm.read(block_size*batch_size-1)\n",
    "\n",
    "            # Decode the block to a string, ignoring any invalid byte sequences\n",
    "            decoded_block = block.decode('utf-8', errors='ignore').replace('\\r', '')\n",
    "            \n",
    "            # Train and test splits\n",
    "            data = torch.tensor(encode(decoded_block), dtype=torch.long)\n",
    "            \n",
    "    return data\n",
    "\n",
    "\n",
    "def get_batch(split):\n",
    "    data = get_random_chunk(split)\n",
    "    ix = torch.randint(len(data) - block_size, (batch_size,))\n",
    "    x = torch.stack([data[i:i+block_size] for i in ix])\n",
    "    y = torch.stack([data[i+1:i+block_size+1] for i in ix])\n",
    "    x, y = x.to(device), y.to(device)\n",
    "    return x, y"
   ]
  },
  {
   "cell_type": "code",
   "execution_count": 30,
   "id": "7b3838bc",
   "metadata": {},
   "outputs": [
    {
     "name": "stdout",
     "output_type": "stream",
     "text": [
      "loaded successfully!\n"
     ]
    }
   ],
   "source": [
    "class Head(nn.Module):\n",
    "    \"\"\" one head of self-attention \"\"\"\n",
    "\n",
    "    def __init__(self, head_size):\n",
    "        super().__init__()\n",
    "        self.key = nn.Linear(n_embd, head_size, bias=False)\n",
    "        self.query = nn.Linear(n_embd, head_size, bias=False)\n",
    "        self.value = nn.Linear(n_embd, head_size, bias=False)\n",
    "        self.register_buffer('tril', torch.tril(torch.ones(block_size, block_size)))\n",
    "\n",
    "        self.dropout = nn.Dropout(dropout)\n",
    "\n",
    "    def forward(self, x):\n",
    "        # input of size (batch, time-step, channels)\n",
    "        # output of size (batch, time-step, head size)\n",
    "        B,T,C = x.shape\n",
    "        k = self.key(x)   # (B,T,hs)\n",
    "        q = self.query(x) # (B,T,hs)\n",
    "        # compute attention scores (\"affinities\")\n",
    "        wei = q @ k.transpose(-2,-1) * k.shape[-1]**-0.5 # (B, T, hs) @ (B, hs, T) -> (B, T, T)\n",
    "        wei = wei.masked_fill(self.tril[:T, :T] == 0, float('-inf')) # (B, T, T)\n",
    "        wei = F.softmax(wei, dim=-1) # (B, T, T)\n",
    "        wei = self.dropout(wei)\n",
    "        # perform the weighted aggregation of the values\n",
    "        v = self.value(x) # (B,T,hs)\n",
    "        out = wei @ v # (B, T, T) @ (B, T, hs) -> (B, T, hs)\n",
    "        return out\n",
    "\n",
    "# [1, 0, 0]\n",
    "# [1, 0.6, 0]\n",
    "# [1, 0.6, 0.4]\n",
    "class MultiHeadAttention(nn.Module):\n",
    "    \"\"\" multiple heads of self-attention in parallel \"\"\"\n",
    "\n",
    "    def __init__(self, num_heads, head_size):\n",
    "        super().__init__()\n",
    "        self.heads = nn.ModuleList([Head(head_size) for _ in range(num_heads)])\n",
    "        self.proj = nn.Linear(head_size * num_heads, n_embd)\n",
    "        self.dropout = nn.Dropout(dropout)\n",
    "\n",
    "    def forward(self, x):\n",
    "        out = torch.cat([h(x) for h in self.heads], dim=-1) # (B, T, F) -> (B, T, [h1, h1, h1, h1, h2, h2, h2, h2, h3, h3, h3, h3])\n",
    "        out = self.dropout(self.proj(out))\n",
    "        return out\n",
    "    \n",
    "\n",
    "class FeedFoward(nn.Module):\n",
    "    \"\"\" a simple linear layer followed by a non-linearity \"\"\"\n",
    "\n",
    "    def __init__(self, n_embd):\n",
    "        super().__init__()\n",
    "        self.net = nn.Sequential(\n",
    "            nn.Linear(n_embd, 4 * n_embd),\n",
    "            nn.ReLU(),\n",
    "            nn.Linear(4 * n_embd, n_embd),\n",
    "            nn.Dropout(dropout),\n",
    "        )\n",
    "\n",
    "    def forward(self, x):\n",
    "        return self.net(x)\n",
    "    \n",
    "class Block(nn.Module):\n",
    "    \"\"\" Transformer block: communication followed by computation \"\"\"\n",
    "\n",
    "    def __init__(self, n_embd, n_head):\n",
    "        # n_embd: embedding dimension, n_head: the number of heads we'd like\n",
    "        super().__init__()\n",
    "        head_size = n_embd // n_head\n",
    "        self.sa = MultiHeadAttention(n_head, head_size)\n",
    "        self.ffwd = FeedFoward(n_embd)\n",
    "        self.ln1 = nn.LayerNorm(n_embd)\n",
    "        self.ln2 = nn.LayerNorm(n_embd)\n",
    "\n",
    "    def forward(self, x):\n",
    "        y = self.sa(x)\n",
    "        x = self.ln1(x + y)\n",
    "        y = self.ffwd(x)\n",
    "        x = self.ln2(x + y)\n",
    "        return x\n",
    "    \n",
    "class GPTLanguageModel(nn.Module):\n",
    "    def __init__(self, vocab_size):\n",
    "        super().__init__()\n",
    "        self.token_embedding_table = nn.Embedding(vocab_size, n_embd)\n",
    "        self.position_embedding_table = nn.Embedding(block_size, n_embd)\n",
    "        self.blocks = nn.Sequential(*[Block(n_embd, n_head=n_head) for _ in range(n_layer)])\n",
    "        self.ln_f = nn.LayerNorm(n_embd) # final layer norm\n",
    "        self.lm_head = nn.Linear(n_embd, vocab_size)\n",
    "        \n",
    "        self.apply(self._init_weights)\n",
    "\n",
    "    def _init_weights(self, module):\n",
    "        if isinstance(module, nn.Linear):\n",
    "            torch.nn.init.normal_(module.weight, mean=0.0, std=0.02)\n",
    "            if module.bias is not None:\n",
    "                torch.nn.init.zeros_(module.bias)\n",
    "        elif isinstance(module, nn.Embedding):\n",
    "            torch.nn.init.normal_(module.weight, mean=0.0, std=0.02)\n",
    "\n",
    "    def forward(self, index, targets=None):\n",
    "        B, T = index.shape\n",
    "        \n",
    "        \n",
    "        # idx and targets are both (B,T) tensor of integers\n",
    "        tok_emb = self.token_embedding_table(index) # (B,T,C)\n",
    "        pos_emb = self.position_embedding_table(torch.arange(T, device=device)) # (T,C)\n",
    "        x = tok_emb + pos_emb # (B,T,C)\n",
    "        x = self.blocks(x) # (B,T,C)\n",
    "        x = self.ln_f(x) # (B,T,C)\n",
    "        logits = self.lm_head(x) # (B,T,vocab_size)\n",
    "        \n",
    "        if targets is None:\n",
    "            loss = None\n",
    "        else:\n",
    "            B, T, C = logits.shape\n",
    "            logits = logits.view(B*T, C)\n",
    "            targets = targets.view(B*T)\n",
    "            loss = F.cross_entropy(logits, targets)\n",
    "        \n",
    "        return logits, loss\n",
    "    \n",
    "    def generate(self, index, max_new_tokens):\n",
    "        # index is (B, T) array of indices in the current context\n",
    "        for _ in range(max_new_tokens):\n",
    "            # crop idx to the last block_size tokens\n",
    "            index_cond = index[:, -block_size:]\n",
    "            # get the predictions\n",
    "            logits, loss = self.forward(index_cond)\n",
    "            # focus only on the last time step\n",
    "            logits = logits[:, -1, :] # becomes (B, C)\n",
    "            # apply softmax to get probabilities\n",
    "            probs = F.softmax(logits, dim=-1) # (B, C)\n",
    "            # sample from the distribution\n",
    "            index_next = torch.multinomial(probs, num_samples=1) # (B, 1)\n",
    "            # append sampled index to the running sequence\n",
    "            index = torch.cat((index, index_next), dim=1) # (B, T+1)\n",
    "        return index\n",
    "    \n",
    "    # Add methods to make the model compatible with PEFT\n",
    "    def prepare_inputs_for_generation(self, input_ids, **kwargs):\n",
    "        \"\"\"\n",
    "        Prepare inputs for generation using this model.\n",
    "        This is a required method for compatibility with PEFT.\n",
    "        \"\"\"\n",
    "        return {\"index\": input_ids}\n",
    "        \n",
    "    def get_input_embeddings(self):\n",
    "        \"\"\"Return the token embedding layer (required for PEFT)\"\"\"\n",
    "        return self.token_embedding_table\n",
    "        \n",
    "    def get_output_embeddings(self):\n",
    "        \"\"\"Return the LM head layer (required for PEFT)\"\"\"\n",
    "        return self.lm_head\n",
    "\n",
    "# model = GPTLanguageModel(vocab_size)\n",
    "# print('loading model parameters...')\n",
    "with open('model-01_60k.pkl', 'rb') as f:\n",
    "# with open('model-01_60k_smallData.pkl', 'rb') as f:\n",
    "    model = pickle.load(f)\n",
    "print('loaded successfully!')\n",
    "m = model.to(device)\n",
    "\n"
   ]
  },
  {
   "cell_type": "code",
   "execution_count": 22,
   "id": "7d4a0918",
   "metadata": {},
   "outputs": [],
   "source": [
    "@torch.no_grad()\n",
    "def estimate_loss():\n",
    "    out = {}\n",
    "    model.eval()\n",
    "    for split in ['train', 'val']:\n",
    "        losses = torch.zeros(eval_iters)\n",
    "        for k in range(eval_iters):\n",
    "            X, Y = get_batch(split)\n",
    "            logits, loss = model(X, Y)\n",
    "            losses[k] = loss.item()\n",
    "        out[split] = losses.mean()\n",
    "    model.train()\n",
    "    return out\n",
    "\n",
    "@torch.no_grad()\n",
    "def estimate_acc():\n",
    "    out = {}\n",
    "    model.eval()\n",
    "    for split in ['train', 'val']:\n",
    "        accs = torch.zeros(eval_iters)\n",
    "        for k in range(eval_iters):\n",
    "            X, Y = get_batch(split)\n",
    "            logits, _ = model(X, Y)\n",
    "            if len(logits.shape) == 3:\n",
    "                B, T, C = logits.shape\n",
    "                logits = logits.view(B*T, C)\n",
    "            else:\n",
    "                C = logits.shape[1]\n",
    "            Y = Y.view(-1)  \n",
    "            pred = logits.argmax(dim=-1)\n",
    "            correct = (pred == Y).float().mean()\n",
    "            accs[k] = correct.item()\n",
    "        out[split] = accs.mean()\n",
    "    model.train()\n",
    "    return out"
   ]
  },
  {
   "cell_type": "code",
   "execution_count": 15,
   "id": "c36a1c38",
   "metadata": {
    "scrolled": false
   },
   "outputs": [
    {
     "name": "stdout",
     "output_type": "stream",
     "text": [
      "step: 0, train loss: 8.613, val loss: 8.617, train acc: 0.000, val acc: 0.000\n",
      "step: 100, train loss: 5.044, val loss: 5.046, train acc: 0.271, val acc: 0.267\n",
      "step: 200, train loss: 3.995, val loss: 4.006, train acc: 0.280, val acc: 0.281\n",
      "step: 300, train loss: 3.335, val loss: 3.334, train acc: 0.278, val acc: 0.280\n",
      "step: 400, train loss: 2.984, val loss: 2.987, train acc: 0.281, val acc: 0.286\n",
      "step: 500, train loss: 2.819, val loss: 2.822, train acc: 0.288, val acc: 0.289\n",
      "step: 600, train loss: 2.713, val loss: 2.720, train acc: 0.287, val acc: 0.291\n",
      "step: 700, train loss: 2.666, val loss: 2.653, train acc: 0.290, val acc: 0.291\n",
      "step: 800, train loss: 2.599, val loss: 2.603, train acc: 0.290, val acc: 0.292\n",
      "step: 900, train loss: 2.577, val loss: 2.579, train acc: 0.293, val acc: 0.298\n",
      "step: 1000, train loss: 2.556, val loss: 2.546, train acc: 0.292, val acc: 0.295\n",
      "step: 1100, train loss: 2.530, val loss: 2.525, train acc: 0.293, val acc: 0.293\n",
      "step: 1200, train loss: 2.514, val loss: 2.505, train acc: 0.298, val acc: 0.300\n",
      "step: 1300, train loss: 2.488, val loss: 2.500, train acc: 0.298, val acc: 0.301\n",
      "step: 1400, train loss: 2.462, val loss: 2.457, train acc: 0.303, val acc: 0.302\n",
      "step: 1500, train loss: 2.452, val loss: 2.458, train acc: 0.304, val acc: 0.305\n",
      "step: 1600, train loss: 2.437, val loss: 2.435, train acc: 0.312, val acc: 0.310\n",
      "step: 1700, train loss: 2.413, val loss: 2.415, train acc: 0.315, val acc: 0.311\n",
      "step: 1800, train loss: 2.385, val loss: 2.376, train acc: 0.321, val acc: 0.322\n",
      "step: 1900, train loss: 2.344, val loss: 2.354, train acc: 0.330, val acc: 0.328\n",
      "step: 2000, train loss: 2.336, val loss: 2.343, train acc: 0.332, val acc: 0.338\n",
      "step: 2100, train loss: 2.319, val loss: 2.310, train acc: 0.337, val acc: 0.340\n",
      "step: 2200, train loss: 2.291, val loss: 2.290, train acc: 0.344, val acc: 0.345\n",
      "step: 2300, train loss: 2.261, val loss: 2.268, train acc: 0.347, val acc: 0.346\n",
      "step: 2400, train loss: 2.252, val loss: 2.251, train acc: 0.355, val acc: 0.353\n",
      "step: 2500, train loss: 2.232, val loss: 2.231, train acc: 0.355, val acc: 0.355\n",
      "step: 2600, train loss: 2.204, val loss: 2.220, train acc: 0.366, val acc: 0.369\n",
      "step: 2700, train loss: 2.188, val loss: 2.188, train acc: 0.370, val acc: 0.371\n",
      "step: 2800, train loss: 2.180, val loss: 2.169, train acc: 0.375, val acc: 0.373\n",
      "step: 2900, train loss: 2.168, val loss: 2.157, train acc: 0.374, val acc: 0.378\n",
      "step: 3000, train loss: 2.122, val loss: 2.125, train acc: 0.382, val acc: 0.390\n",
      "step: 3100, train loss: 2.118, val loss: 2.115, train acc: 0.388, val acc: 0.392\n",
      "step: 3200, train loss: 2.123, val loss: 2.105, train acc: 0.389, val acc: 0.394\n",
      "step: 3300, train loss: 2.093, val loss: 2.085, train acc: 0.395, val acc: 0.399\n",
      "step: 3400, train loss: 2.081, val loss: 2.068, train acc: 0.399, val acc: 0.401\n",
      "step: 3500, train loss: 2.070, val loss: 2.058, train acc: 0.403, val acc: 0.407\n",
      "step: 3600, train loss: 2.057, val loss: 2.046, train acc: 0.407, val acc: 0.410\n",
      "step: 3700, train loss: 2.030, val loss: 2.032, train acc: 0.412, val acc: 0.414\n",
      "step: 3800, train loss: 2.030, val loss: 2.012, train acc: 0.417, val acc: 0.420\n",
      "step: 3900, train loss: 2.017, val loss: 2.018, train acc: 0.416, val acc: 0.417\n",
      "step: 4000, train loss: 1.998, val loss: 1.993, train acc: 0.421, val acc: 0.423\n",
      "step: 4100, train loss: 1.987, val loss: 1.986, train acc: 0.421, val acc: 0.426\n",
      "step: 4200, train loss: 1.981, val loss: 1.973, train acc: 0.426, val acc: 0.430\n",
      "step: 4300, train loss: 1.975, val loss: 1.963, train acc: 0.424, val acc: 0.434\n",
      "step: 4400, train loss: 1.959, val loss: 1.951, train acc: 0.431, val acc: 0.433\n",
      "step: 4500, train loss: 1.947, val loss: 1.941, train acc: 0.439, val acc: 0.441\n",
      "step: 4600, train loss: 1.931, val loss: 1.927, train acc: 0.440, val acc: 0.443\n",
      "step: 4700, train loss: 1.929, val loss: 1.915, train acc: 0.437, val acc: 0.441\n",
      "step: 4800, train loss: 1.915, val loss: 1.903, train acc: 0.444, val acc: 0.445\n",
      "step: 4900, train loss: 1.913, val loss: 1.898, train acc: 0.446, val acc: 0.448\n",
      "step: 5000, train loss: 1.903, val loss: 1.902, train acc: 0.447, val acc: 0.453\n",
      "step: 5100, train loss: 1.899, val loss: 1.881, train acc: 0.450, val acc: 0.454\n",
      "step: 5200, train loss: 1.875, val loss: 1.871, train acc: 0.452, val acc: 0.454\n",
      "step: 5300, train loss: 1.903, val loss: 1.862, train acc: 0.456, val acc: 0.462\n",
      "step: 5400, train loss: 1.872, val loss: 1.868, train acc: 0.459, val acc: 0.461\n",
      "step: 5500, train loss: 1.858, val loss: 1.853, train acc: 0.461, val acc: 0.463\n",
      "step: 5600, train loss: 1.857, val loss: 1.828, train acc: 0.465, val acc: 0.465\n",
      "step: 5700, train loss: 1.843, val loss: 1.843, train acc: 0.464, val acc: 0.469\n",
      "step: 5800, train loss: 1.837, val loss: 1.815, train acc: 0.463, val acc: 0.469\n",
      "step: 5900, train loss: 1.830, val loss: 1.829, train acc: 0.470, val acc: 0.471\n",
      "step: 6000, train loss: 1.823, val loss: 1.801, train acc: 0.471, val acc: 0.474\n",
      "step: 6100, train loss: 1.828, val loss: 1.812, train acc: 0.471, val acc: 0.477\n",
      "step: 6200, train loss: 1.794, val loss: 1.791, train acc: 0.475, val acc: 0.476\n",
      "step: 6300, train loss: 1.798, val loss: 1.764, train acc: 0.477, val acc: 0.479\n",
      "step: 6400, train loss: 1.817, val loss: 1.774, train acc: 0.479, val acc: 0.486\n",
      "step: 6500, train loss: 1.792, val loss: 1.788, train acc: 0.480, val acc: 0.485\n",
      "step: 6600, train loss: 1.775, val loss: 1.762, train acc: 0.480, val acc: 0.489\n",
      "step: 6700, train loss: 1.790, val loss: 1.777, train acc: 0.484, val acc: 0.488\n",
      "step: 6800, train loss: 1.785, val loss: 1.752, train acc: 0.490, val acc: 0.486\n",
      "step: 6900, train loss: 1.752, val loss: 1.740, train acc: 0.486, val acc: 0.489\n",
      "step: 7000, train loss: 1.762, val loss: 1.735, train acc: 0.490, val acc: 0.495\n",
      "step: 7100, train loss: 1.751, val loss: 1.747, train acc: 0.489, val acc: 0.496\n",
      "step: 7200, train loss: 1.753, val loss: 1.725, train acc: 0.495, val acc: 0.496\n",
      "step: 7300, train loss: 1.747, val loss: 1.732, train acc: 0.493, val acc: 0.493\n",
      "step: 7400, train loss: 1.742, val loss: 1.711, train acc: 0.497, val acc: 0.500\n",
      "step: 7500, train loss: 1.726, val loss: 1.706, train acc: 0.500, val acc: 0.505\n",
      "step: 7600, train loss: 1.725, val loss: 1.714, train acc: 0.498, val acc: 0.501\n",
      "step: 7700, train loss: 1.714, val loss: 1.698, train acc: 0.497, val acc: 0.503\n",
      "step: 7800, train loss: 1.724, val loss: 1.696, train acc: 0.499, val acc: 0.506\n",
      "step: 7900, train loss: 1.702, val loss: 1.691, train acc: 0.504, val acc: 0.508\n",
      "step: 8000, train loss: 1.715, val loss: 1.701, train acc: 0.500, val acc: 0.508\n",
      "step: 8100, train loss: 1.703, val loss: 1.695, train acc: 0.509, val acc: 0.511\n",
      "step: 8200, train loss: 1.709, val loss: 1.686, train acc: 0.503, val acc: 0.511\n",
      "step: 8300, train loss: 1.693, val loss: 1.683, train acc: 0.507, val acc: 0.510\n",
      "step: 8400, train loss: 1.689, val loss: 1.669, train acc: 0.505, val acc: 0.515\n",
      "step: 8500, train loss: 1.681, val loss: 1.648, train acc: 0.510, val acc: 0.513\n",
      "step: 8600, train loss: 1.677, val loss: 1.672, train acc: 0.510, val acc: 0.518\n",
      "step: 8700, train loss: 1.672, val loss: 1.644, train acc: 0.513, val acc: 0.515\n",
      "step: 8800, train loss: 1.669, val loss: 1.671, train acc: 0.515, val acc: 0.518\n",
      "step: 8900, train loss: 1.681, val loss: 1.642, train acc: 0.517, val acc: 0.521\n",
      "step: 9000, train loss: 1.668, val loss: 1.644, train acc: 0.516, val acc: 0.524\n",
      "step: 9100, train loss: 1.676, val loss: 1.638, train acc: 0.512, val acc: 0.525\n",
      "step: 9200, train loss: 1.666, val loss: 1.617, train acc: 0.517, val acc: 0.523\n",
      "step: 9300, train loss: 1.648, val loss: 1.632, train acc: 0.518, val acc: 0.526\n",
      "step: 9400, train loss: 1.653, val loss: 1.616, train acc: 0.526, val acc: 0.529\n",
      "step: 9500, train loss: 1.653, val loss: 1.612, train acc: 0.519, val acc: 0.528\n",
      "step: 9600, train loss: 1.645, val loss: 1.634, train acc: 0.520, val acc: 0.527\n",
      "step: 9700, train loss: 1.645, val loss: 1.621, train acc: 0.524, val acc: 0.529\n",
      "step: 9800, train loss: 1.631, val loss: 1.607, train acc: 0.521, val acc: 0.529\n",
      "step: 9900, train loss: 1.644, val loss: 1.596, train acc: 0.524, val acc: 0.532\n",
      "1.6842334270477295\n",
      "model saved\n"
     ]
    }
   ],
   "source": [
    "# create a PyTorch optimizer\n",
    "optimizer = torch.optim.AdamW(model.parameters(), lr=learning_rate)\n",
    "itr_list = []\n",
    "train_acc_list = []\n",
    "val_acc_list = []\n",
    "train_loss_list = []\n",
    "val_loss_list = []\n",
    "\n",
    "for iter in range(max_iters):\n",
    "    # print(iter)\n",
    "    if iter % eval_iters == 0:\n",
    "        losses = estimate_loss()\n",
    "        accs = estimate_acc()\n",
    "        print(f\"step: {iter}, train loss: {losses['train']:.3f}, val loss: {losses['val']:.3f}, train acc: {accs['train']:.3f}, val acc: {accs['val']:.3f}\")\n",
    "        # Record metrics for plotting\n",
    "        train_loss_list.append(losses['train'])\n",
    "        val_loss_list.append(losses['val'])\n",
    "        train_acc_list.append(accs['train'])\n",
    "        val_acc_list.append(accs['val'])\n",
    "        itr_list.append(iter)\n",
    "\n",
    "    # sample a batch of data\n",
    "    xb, yb = get_batch('train')\n",
    "\n",
    "    # evaluate the loss\n",
    "    logits, loss = model.forward(xb, yb)\n",
    "    optimizer.zero_grad(set_to_none=True)\n",
    "    loss.backward()\n",
    "    optimizer.step()\n",
    "\n",
    "print(loss.item())\n",
    "\n",
    "with open('model-01_10k_largeData.pkl', 'wb') as f:\n",
    "    pickle.dump(model, f)\n",
    "print('model saved')"
   ]
  },
  {
   "cell_type": "code",
   "execution_count": null,
   "id": "b0d4668c",
   "metadata": {},
   "outputs": [
    {
     "ename": "TypeError",
     "evalue": "GPTLanguageModel.generate() got an unexpected keyword argument 'top_k'",
     "output_type": "error",
     "traceback": [
      "\u001b[31m---------------------------------------------------------------------------\u001b[39m",
      "\u001b[31mTypeError\u001b[39m                                 Traceback (most recent call last)",
      "\u001b[36mCell\u001b[39m\u001b[36m \u001b[39m\u001b[32mIn[36]\u001b[39m\u001b[32m, line 3\u001b[39m\n\u001b[32m      1\u001b[39m prompt = \u001b[33m'\u001b[39m\u001b[33mThe Gambia also has\u001b[39m\u001b[33m'\u001b[39m\n\u001b[32m      2\u001b[39m context = torch.tensor(encode(prompt), dtype=torch.long, device=device)\n\u001b[32m----> \u001b[39m\u001b[32m3\u001b[39m generated_chars = decode(\u001b[43mm\u001b[49m\u001b[43m.\u001b[49m\u001b[43mgenerate\u001b[49m\u001b[43m(\u001b[49m\u001b[43mcontext\u001b[49m\u001b[43m.\u001b[49m\u001b[43munsqueeze\u001b[49m\u001b[43m(\u001b[49m\u001b[32;43m0\u001b[39;49m\u001b[43m)\u001b[49m\u001b[43m,\u001b[49m\u001b[43m \u001b[49m\u001b[43mmax_new_tokens\u001b[49m\u001b[43m=\u001b[49m\u001b[32;43m50\u001b[39;49m\u001b[43m,\u001b[49m\u001b[43m \u001b[49m\u001b[43mtop_k\u001b[49m\u001b[43m=\u001b[49m\u001b[32;43m0.1\u001b[39;49m\u001b[43m)\u001b[49m[\u001b[32m0\u001b[39m].tolist())\n\u001b[32m      4\u001b[39m \u001b[38;5;28mprint\u001b[39m(generated_chars)\n",
      "\u001b[31mTypeError\u001b[39m: GPTLanguageModel.generate() got an unexpected keyword argument 'top_k'"
     ]
    }
   ],
   "source": [
    "prompt = 'The Gambia also has'\n",
    "context = torch.tensor(encode(prompt), dtype=torch.long, device=device)\n",
    "generated_chars = decode(m.generate(context.unsqueeze(0), max_new_tokens=50)[0].tolist())\n",
    "print(generated_chars)"
   ]
  },
  {
   "cell_type": "code",
   "execution_count": null,
   "id": "554284f7",
   "metadata": {},
   "outputs": [
    {
     "name": "stdout",
     "output_type": "stream",
     "text": [
      "Metrics data saved to training_metrics_smallData_30k.csv\n"
     ]
    }
   ],
   "source": [
    "# Create a DataFrame with loss and accuracy metrics\n",
    "import pandas as pd\n",
    "df_metrics = pd.DataFrame({\n",
    "    'iteration': itr_list,\n",
    "    'train_loss': train_loss_list,\n",
    "    'val_loss': val_loss_list,\n",
    "    'train_acc': train_acc_list,\n",
    "    'val_acc': val_acc_list\n",
    "})\n",
    "\n",
    "# Save to CSV\n",
    "df_metrics.to_csv('training_metrics_largeData_30k.csv', index=False)\n",
    "\n",
    "print(\"Metrics data saved to training_metrics_smallData_30k.csv\")"
   ]
  },
  {
   "cell_type": "code",
   "execution_count": null,
   "id": "d6921aeb",
   "metadata": {},
   "outputs": [
    {
     "data": {
      "image/png": "[encoded data removed]",
      "text/plain": [
       "<Figure size 1700x500 with 2 Axes>"
      ]
     },
     "metadata": {},
     "output_type": "display_data"
    }
   ],
   "source": [
    "import re\n",
    "import pandas as pd\n",
    "df_metrics = pd.read_csv('/home/max/NLP-Final-Project/results/training_metrics_largeData_30k.csv')\n",
    "\n",
    "# Visualize training metrics\n",
    "import matplotlib.pyplot as plt\n",
    "\n",
    "\n",
    "def to_scalar(x):\n",
    "    # if it’s a real tensor, grab its .item()\n",
    "    if hasattr(x, 'item'):\n",
    "        return x.item()\n",
    "    # if it’s a string like \"tensor(1.2345)\", pull out the number\n",
    "    if isinstance(x, str):\n",
    "        m = re.search(r\"([-+]?[0-9]*\\.?[0-9]+(?:[eE][-+]?[0-9]+)?)\", x)\n",
    "        return float(m.group()) if m else float(x)\n",
    "    # otherwise just cast\n",
    "    return float(x)\n",
    "\n",
    "# apply elementwise conversion\n",
    "for col in ['train_loss','val_loss','train_acc','val_acc']:\n",
    "    df_metrics[col] = df_metrics[col].apply(to_scalar)\n",
    "# Create a figure with two subplots side by side\n",
    "fig, (ax1, ax2) = plt.subplots(1, 2, figsize=(17, 5))\n",
    "\n",
    "# Plot loss\n",
    "ax1.plot(df_metrics['iteration'], df_metrics['train_loss'], label='Training Loss')\n",
    "ax1.plot(df_metrics['iteration'], df_metrics['val_loss'], label='Validation Loss')\n",
    "ax1.set_xlabel('Iteration')\n",
    "ax1.set_ylabel('Loss')\n",
    "ax1.set_title('Training and Validation Loss (large dataset)')\n",
    "ax1.legend()\n",
    "ax1.grid(True)\n",
    "\n",
    "# Plot accuracy\n",
    "ax2.plot(df_metrics['iteration'], df_metrics['train_acc'], label='Training Accuracy')\n",
    "ax2.plot(df_metrics['iteration'], df_metrics['val_acc'], label='Validation Accuracy')\n",
    "ax2.set_xlabel('Iteration')\n",
    "ax2.set_ylabel('Accuracy')\n",
    "ax2.set_title('Training and Validation Accuracy (large dataset)')\n",
    "ax2.legend()\n",
    "ax2.grid(True)\n",
    "\n",
    "plt.tight_layout()\n",
    "plt.savefig('training_metrics_largeDataset_30k.png')\n",
    "plt.show()"
   ]
  },
  {
   "cell_type": "code",
   "execution_count": 7,
   "id": "f2fa8c8b",
   "metadata": {},
   "outputs": [
    {
     "name": "stderr",
     "output_type": "stream",
     "text": [
      "/home/max/anaconda3/envs/nlp/lib/python3.12/site-packages/tqdm/auto.py:21: TqdmWarning: IProgress not found. Please update jupyter and ipywidgets. See https://ipywidgets.readthedocs.io/en/stable/user_install.html\n",
      "  from .autonotebook import tqdm as notebook_tqdm\n"
     ]
    },
    {
     "name": "stdout",
     "output_type": "stream",
     "text": [
      "LoRA parameters: 8,517,616\n"
     ]
    }
   ],
   "source": [
    "\n",
    "from datasets import load_dataset\n",
    "import torch.nn.functional as F\n",
    "import math, random, tqdm\n",
    "\n",
    "# ── Load a small slice of OASST1 ──────────────────────────────────────────\n",
    "ds = load_dataset(\"OpenAssistant/oasst1\", split=\"train[:2%]\")   \n",
    "texts = ds[\"text\"]\n",
    "\n",
    "def encode_safe(txt: str):\n",
    "    return [string_to_int[c] for c in txt if c in string_to_int]\n",
    "\n",
    "# ── Inject LoRA into every Linear layer ───────────────────────────────────\n",
    "class LoRALinear(nn.Module):\n",
    "    \"\"\"Additive LoRA wrapper for a frozen `nn.Linear`.\"\"\"\n",
    "    def __init__(self, base: nn.Linear, r: int = 8, alpha: int = 16):\n",
    "        super().__init__()\n",
    "        self.base = base                     \n",
    "        for p in self.base.parameters():\n",
    "            p.requires_grad = False\n",
    "\n",
    "        self.r = r\n",
    "        self.scaling = alpha / r\n",
    "        self.lora_A = nn.Parameter(base.weight.new_zeros((r, base.in_features)))\n",
    "        self.lora_B = nn.Parameter(base.weight.new_zeros((base.out_features, r)))\n",
    "        nn.init.kaiming_uniform_(self.lora_A, a=math.sqrt(5))\n",
    "        nn.init.zeros_(self.lora_B)\n",
    "\n",
    "    def forward(self, x):\n",
    "        out = self.base(x)\n",
    "        delta = F.linear(x, self.lora_B @ self.lora_A) * self.scaling\n",
    "        return out + delta\n",
    "\n",
    "def _patch(module):\n",
    "    for name, child in module.named_children():\n",
    "        if isinstance(child, nn.Linear):\n",
    "            setattr(module, name, LoRALinear(child))  \n",
    "        else:\n",
    "            _patch(child)\n",
    "\n",
    "_patch(model)  \n",
    "\n",
    "# collect trainable params\n",
    "lora_params = [p for p in model.parameters() if p.requires_grad]\n",
    "print(f\"LoRA parameters: {sum(p.numel() for p in lora_params):,}\")\n",
    "\n",
    "# ── Simple batch sampler ---------------------------------------------------\n",
    "def get_batch(batch_size: int = 32):\n",
    "    xs, ys = [], []\n",
    "    while len(xs) < batch_size:\n",
    "        ids = encode_safe(random.choice(texts))\n",
    "        if len(ids) <= block_size:                 \n",
    "            continue\n",
    "        start = random.randint(0, len(ids) - block_size - 1)\n",
    "        chunk = ids[start : start + block_size + 1]\n",
    "        xs.append(chunk[:-1])\n",
    "        ys.append(chunk[1:])\n",
    "    x = torch.tensor(xs, dtype=torch.long, device=device)\n",
    "    y = torch.tensor(ys, dtype=torch.long, device=device)\n",
    "    return x, y"
   ]
  },
  {
   "cell_type": "code",
   "execution_count": null,
   "id": "8df06eff",
   "metadata": {},
   "outputs": [
    {
     "name": "stderr",
     "output_type": "stream",
     "text": [
      "  1%|          | 103/10000 [00:07<11:10, 14.75it/s]"
     ]
    },
    {
     "name": "stdout",
     "output_type": "stream",
     "text": [
      "step  100/10000  •  loss 2.2334  •  acc 0.3997\n"
     ]
    },
    {
     "name": "stderr",
     "output_type": "stream",
     "text": [
      "  2%|▏         | 203/10000 [00:13<10:19, 15.81it/s]"
     ]
    },
    {
     "name": "stdout",
     "output_type": "stream",
     "text": [
      "step  200/10000  •  loss 2.0688  •  acc 0.3984\n"
     ]
    },
    {
     "name": "stderr",
     "output_type": "stream",
     "text": [
      "  3%|▎         | 303/10000 [00:20<10:27, 15.46it/s]"
     ]
    },
    {
     "name": "stdout",
     "output_type": "stream",
     "text": [
      "step  300/10000  •  loss 1.9535  •  acc 0.4265\n"
     ]
    },
    {
     "name": "stderr",
     "output_type": "stream",
     "text": [
      "  4%|▍         | 396/10000 [00:23<01:31, 105.26it/s]"
     ]
    },
    {
     "name": "stdout",
     "output_type": "stream",
     "text": [
      "step  400/10000  •  loss 1.9370  •  acc 0.4382\n"
     ]
    },
    {
     "name": "stderr",
     "output_type": "stream",
     "text": [
      "  5%|▌         | 503/10000 [00:30<10:41, 14.82it/s] "
     ]
    },
    {
     "name": "stdout",
     "output_type": "stream",
     "text": [
      "step  500/10000  •  loss 1.8991  •  acc 0.4359\n"
     ]
    },
    {
     "name": "stderr",
     "output_type": "stream",
     "text": [
      "  6%|▌         | 603/10000 [00:37<10:36, 14.75it/s]"
     ]
    },
    {
     "name": "stdout",
     "output_type": "stream",
     "text": [
      "step  600/10000  •  loss 1.9573  •  acc 0.4396\n"
     ]
    },
    {
     "name": "stderr",
     "output_type": "stream",
     "text": [
      "  7%|▋         | 703/10000 [00:43<09:38, 16.06it/s]"
     ]
    },
    {
     "name": "stdout",
     "output_type": "stream",
     "text": [
      "step  700/10000  •  loss 1.9408  •  acc 0.4357\n"
     ]
    },
    {
     "name": "stderr",
     "output_type": "stream",
     "text": [
      "  8%|▊         | 803/10000 [00:50<09:58, 15.36it/s]"
     ]
    },
    {
     "name": "stdout",
     "output_type": "stream",
     "text": [
      "step  800/10000  •  loss 1.8311  •  acc 0.4565\n"
     ]
    },
    {
     "name": "stderr",
     "output_type": "stream",
     "text": [
      "  9%|▉         | 902/10000 [00:54<04:48, 31.58it/s]"
     ]
    },
    {
     "name": "stdout",
     "output_type": "stream",
     "text": [
      "step  900/10000  •  loss 1.8424  •  acc 0.4679\n"
     ]
    },
    {
     "name": "stderr",
     "output_type": "stream",
     "text": [
      " 10%|█         | 1003/10000 [01:00<09:03, 16.55it/s]"
     ]
    },
    {
     "name": "stdout",
     "output_type": "stream",
     "text": [
      "step 1000/10000  •  loss 1.7762  •  acc 0.4742\n"
     ]
    },
    {
     "name": "stderr",
     "output_type": "stream",
     "text": [
      " 11%|█         | 1103/10000 [01:07<09:14, 16.05it/s]"
     ]
    },
    {
     "name": "stdout",
     "output_type": "stream",
     "text": [
      "step 1100/10000  •  loss 1.8394  •  acc 0.4646\n"
     ]
    },
    {
     "name": "stderr",
     "output_type": "stream",
     "text": [
      " 12%|█▏        | 1203/10000 [01:13<09:15, 15.83it/s]"
     ]
    },
    {
     "name": "stdout",
     "output_type": "stream",
     "text": [
      "step 1200/10000  •  loss 1.8564  •  acc 0.4540\n"
     ]
    },
    {
     "name": "stderr",
     "output_type": "stream",
     "text": [
      " 13%|█▎        | 1303/10000 [01:19<09:01, 16.05it/s]"
     ]
    },
    {
     "name": "stdout",
     "output_type": "stream",
     "text": [
      "step 1300/10000  •  loss 1.7825  •  acc 0.4784\n"
     ]
    },
    {
     "name": "stderr",
     "output_type": "stream",
     "text": [
      " 14%|█▍        | 1399/10000 [01:23<01:19, 108.22it/s]"
     ]
    },
    {
     "name": "stdout",
     "output_type": "stream",
     "text": [
      "step 1400/10000  •  loss 1.7715  •  acc 0.4742\n"
     ]
    },
    {
     "name": "stderr",
     "output_type": "stream",
     "text": [
      " 15%|█▌        | 1503/10000 [01:29<08:37, 16.42it/s] "
     ]
    },
    {
     "name": "stdout",
     "output_type": "stream",
     "text": [
      "step 1500/10000  •  loss 1.9160  •  acc 0.4446\n"
     ]
    },
    {
     "name": "stderr",
     "output_type": "stream",
     "text": [
      " 16%|█▌        | 1603/10000 [01:36<09:06, 15.35it/s]"
     ]
    },
    {
     "name": "stdout",
     "output_type": "stream",
     "text": [
      "step 1600/10000  •  loss 1.8525  •  acc 0.4569\n"
     ]
    },
    {
     "name": "stderr",
     "output_type": "stream",
     "text": [
      " 17%|█▋        | 1703/10000 [01:42<08:44, 15.81it/s]"
     ]
    },
    {
     "name": "stdout",
     "output_type": "stream",
     "text": [
      "step 1700/10000  •  loss 1.8507  •  acc 0.4625\n"
     ]
    },
    {
     "name": "stderr",
     "output_type": "stream",
     "text": [
      " 18%|█▊        | 1803/10000 [01:49<08:38, 15.81it/s]"
     ]
    },
    {
     "name": "stdout",
     "output_type": "stream",
     "text": [
      "step 1800/10000  •  loss 1.8306  •  acc 0.4600\n"
     ]
    },
    {
     "name": "stderr",
     "output_type": "stream",
     "text": [
      " 19%|█▉        | 1903/10000 [01:53<01:14, 109.08it/s]"
     ]
    },
    {
     "name": "stdout",
     "output_type": "stream",
     "text": [
      "step 1900/10000  •  loss 1.8001  •  acc 0.4655\n"
     ]
    },
    {
     "name": "stderr",
     "output_type": "stream",
     "text": [
      " 20%|██        | 2003/10000 [01:59<08:05, 16.46it/s] "
     ]
    },
    {
     "name": "stdout",
     "output_type": "stream",
     "text": [
      "step 2000/10000  •  loss 1.8800  •  acc 0.4528\n"
     ]
    },
    {
     "name": "stderr",
     "output_type": "stream",
     "text": [
      " 21%|██        | 2103/10000 [02:05<08:41, 15.15it/s]"
     ]
    },
    {
     "name": "stdout",
     "output_type": "stream",
     "text": [
      "step 2100/10000  •  loss 1.6666  •  acc 0.5051\n"
     ]
    },
    {
     "name": "stderr",
     "output_type": "stream",
     "text": [
      " 22%|██▏       | 2203/10000 [02:12<08:31, 15.26it/s]"
     ]
    },
    {
     "name": "stdout",
     "output_type": "stream",
     "text": [
      "step 2200/10000  •  loss 1.7614  •  acc 0.4849\n"
     ]
    },
    {
     "name": "stderr",
     "output_type": "stream",
     "text": [
      " 23%|██▎       | 2303/10000 [02:19<09:15, 13.85it/s]"
     ]
    },
    {
     "name": "stdout",
     "output_type": "stream",
     "text": [
      "step 2300/10000  •  loss 1.6967  •  acc 0.5070\n"
     ]
    },
    {
     "name": "stderr",
     "output_type": "stream",
     "text": [
      " 24%|██▍       | 2400/10000 [02:23<03:27, 36.69it/s]"
     ]
    },
    {
     "name": "stdout",
     "output_type": "stream",
     "text": [
      "step 2400/10000  •  loss 1.7060  •  acc 0.5006\n"
     ]
    },
    {
     "name": "stderr",
     "output_type": "stream",
     "text": [
      " 25%|██▌       | 2503/10000 [02:30<08:36, 14.51it/s]"
     ]
    },
    {
     "name": "stdout",
     "output_type": "stream",
     "text": [
      "step 2500/10000  •  loss 1.7003  •  acc 0.4921\n"
     ]
    },
    {
     "name": "stderr",
     "output_type": "stream",
     "text": [
      " 26%|██▌       | 2603/10000 [02:37<08:07, 15.16it/s]"
     ]
    },
    {
     "name": "stdout",
     "output_type": "stream",
     "text": [
      "step 2600/10000  •  loss 1.6325  •  acc 0.5292\n"
     ]
    },
    {
     "name": "stderr",
     "output_type": "stream",
     "text": [
      " 27%|██▋       | 2703/10000 [02:44<08:39, 14.04it/s]"
     ]
    },
    {
     "name": "stdout",
     "output_type": "stream",
     "text": [
      "step 2700/10000  •  loss 1.6385  •  acc 0.5033\n"
     ]
    },
    {
     "name": "stderr",
     "output_type": "stream",
     "text": [
      " 28%|██▊       | 2803/10000 [02:51<08:39, 13.85it/s]"
     ]
    },
    {
     "name": "stdout",
     "output_type": "stream",
     "text": [
      "step 2800/10000  •  loss 1.6879  •  acc 0.5094\n"
     ]
    },
    {
     "name": "stderr",
     "output_type": "stream",
     "text": [
      " 29%|██▉       | 2903/10000 [02:55<07:00, 16.87it/s]"
     ]
    },
    {
     "name": "stdout",
     "output_type": "stream",
     "text": [
      "step 2900/10000  •  loss 1.7141  •  acc 0.4774\n"
     ]
    },
    {
     "name": "stderr",
     "output_type": "stream",
     "text": [
      " 30%|███       | 3003/10000 [03:02<07:34, 15.41it/s]"
     ]
    },
    {
     "name": "stdout",
     "output_type": "stream",
     "text": [
      "step 3000/10000  •  loss 1.6430  •  acc 0.5114\n"
     ]
    },
    {
     "name": "stderr",
     "output_type": "stream",
     "text": [
      " 31%|███       | 3103/10000 [03:08<07:31, 15.26it/s]"
     ]
    },
    {
     "name": "stdout",
     "output_type": "stream",
     "text": [
      "step 3100/10000  •  loss 1.7087  •  acc 0.4939\n"
     ]
    },
    {
     "name": "stderr",
     "output_type": "stream",
     "text": [
      " 32%|███▏      | 3203/10000 [03:15<07:31, 15.05it/s]"
     ]
    },
    {
     "name": "stdout",
     "output_type": "stream",
     "text": [
      "step 3200/10000  •  loss 1.7463  •  acc 0.4797\n"
     ]
    },
    {
     "name": "stderr",
     "output_type": "stream",
     "text": [
      " 33%|███▎      | 3299/10000 [03:22<07:42, 14.50it/s]"
     ]
    },
    {
     "name": "stdout",
     "output_type": "stream",
     "text": [
      "step 3300/10000  •  loss 1.6446  •  acc 0.5157\n"
     ]
    },
    {
     "name": "stderr",
     "output_type": "stream",
     "text": [
      " 34%|███▍      | 3403/10000 [03:27<07:46, 14.14it/s]"
     ]
    },
    {
     "name": "stdout",
     "output_type": "stream",
     "text": [
      "step 3400/10000  •  loss 1.7020  •  acc 0.4952\n"
     ]
    },
    {
     "name": "stderr",
     "output_type": "stream",
     "text": [
      " 35%|███▌      | 3503/10000 [03:34<07:36, 14.23it/s]"
     ]
    },
    {
     "name": "stdout",
     "output_type": "stream",
     "text": [
      "step 3500/10000  •  loss 1.6806  •  acc 0.5035\n"
     ]
    },
    {
     "name": "stderr",
     "output_type": "stream",
     "text": [
      " 36%|███▌      | 3603/10000 [03:41<07:31, 14.18it/s]"
     ]
    },
    {
     "name": "stdout",
     "output_type": "stream",
     "text": [
      "step 3600/10000  •  loss 1.6866  •  acc 0.5012\n"
     ]
    },
    {
     "name": "stderr",
     "output_type": "stream",
     "text": [
      " 37%|███▋      | 3703/10000 [03:48<07:19, 14.34it/s]"
     ]
    },
    {
     "name": "stdout",
     "output_type": "stream",
     "text": [
      "step 3700/10000  •  loss 1.7146  •  acc 0.5023\n"
     ]
    },
    {
     "name": "stderr",
     "output_type": "stream",
     "text": [
      " 38%|███▊      | 3794/10000 [03:52<01:06, 92.84it/s]"
     ]
    },
    {
     "name": "stdout",
     "output_type": "stream",
     "text": [
      "step 3800/10000  •  loss 1.6081  •  acc 0.5206\n"
     ]
    },
    {
     "name": "stderr",
     "output_type": "stream",
     "text": [
      " 39%|███▉      | 3903/10000 [03:59<07:12, 14.09it/s]"
     ]
    },
    {
     "name": "stdout",
     "output_type": "stream",
     "text": [
      "step 3900/10000  •  loss 1.7471  •  acc 0.4774\n"
     ]
    },
    {
     "name": "stderr",
     "output_type": "stream",
     "text": [
      " 40%|████      | 4003/10000 [04:06<07:02, 14.20it/s]"
     ]
    },
    {
     "name": "stdout",
     "output_type": "stream",
     "text": [
      "step 4000/10000  •  loss 1.6647  •  acc 0.5126\n"
     ]
    },
    {
     "name": "stderr",
     "output_type": "stream",
     "text": [
      " 41%|████      | 4103/10000 [04:13<06:03, 16.21it/s]"
     ]
    },
    {
     "name": "stdout",
     "output_type": "stream",
     "text": [
      "step 4100/10000  •  loss 1.6620  •  acc 0.5149\n"
     ]
    },
    {
     "name": "stderr",
     "output_type": "stream",
     "text": [
      " 42%|████▏     | 4203/10000 [04:19<05:58, 16.16it/s]"
     ]
    },
    {
     "name": "stdout",
     "output_type": "stream",
     "text": [
      "step 4200/10000  •  loss 1.7566  •  acc 0.4825\n"
     ]
    },
    {
     "name": "stderr",
     "output_type": "stream",
     "text": [
      " 43%|████▎     | 4304/10000 [04:23<03:05, 30.70it/s] "
     ]
    },
    {
     "name": "stdout",
     "output_type": "stream",
     "text": [
      "step 4300/10000  •  loss 1.6135  •  acc 0.5159\n"
     ]
    },
    {
     "name": "stderr",
     "output_type": "stream",
     "text": [
      " 44%|████▍     | 4403/10000 [04:29<05:41, 16.39it/s]"
     ]
    },
    {
     "name": "stdout",
     "output_type": "stream",
     "text": [
      "step 4400/10000  •  loss 1.6365  •  acc 0.5200\n"
     ]
    },
    {
     "name": "stderr",
     "output_type": "stream",
     "text": [
      " 45%|████▌     | 4503/10000 [04:35<05:47, 15.83it/s]"
     ]
    },
    {
     "name": "stdout",
     "output_type": "stream",
     "text": [
      "step 4500/10000  •  loss 1.5939  •  acc 0.5250\n"
     ]
    },
    {
     "name": "stderr",
     "output_type": "stream",
     "text": [
      " 46%|████▌     | 4603/10000 [04:41<05:34, 16.14it/s]"
     ]
    },
    {
     "name": "stdout",
     "output_type": "stream",
     "text": [
      "step 4600/10000  •  loss 1.6966  •  acc 0.5085\n"
     ]
    },
    {
     "name": "stderr",
     "output_type": "stream",
     "text": [
      " 47%|████▋     | 4703/10000 [04:47<05:28, 16.13it/s]"
     ]
    },
    {
     "name": "stdout",
     "output_type": "stream",
     "text": [
      "step 4700/10000  •  loss 1.6362  •  acc 0.5204\n"
     ]
    },
    {
     "name": "stderr",
     "output_type": "stream",
     "text": [
      " 48%|████▊     | 4763/10000 [04:51<05:23, 16.19it/s]"
     ]
    },
    {
     "name": "stdout",
     "output_type": "stream",
     "text": [
      "step 4800/10000  •  loss 1.6548  •  acc 0.5088\n"
     ]
    },
    {
     "name": "stderr",
     "output_type": "stream",
     "text": [
      " 49%|████▉     | 4903/10000 [04:57<05:06, 16.64it/s] "
     ]
    },
    {
     "name": "stdout",
     "output_type": "stream",
     "text": [
      "step 4900/10000  •  loss 1.6698  •  acc 0.5154\n"
     ]
    },
    {
     "name": "stderr",
     "output_type": "stream",
     "text": [
      " 50%|█████     | 5003/10000 [05:03<05:09, 16.17it/s]"
     ]
    },
    {
     "name": "stdout",
     "output_type": "stream",
     "text": [
      "step 5000/10000  •  loss 1.6464  •  acc 0.5232\n"
     ]
    },
    {
     "name": "stderr",
     "output_type": "stream",
     "text": [
      " 51%|█████     | 5103/10000 [05:10<05:43, 14.25it/s]"
     ]
    },
    {
     "name": "stdout",
     "output_type": "stream",
     "text": [
      "step 5100/10000  •  loss 1.6251  •  acc 0.5177\n"
     ]
    },
    {
     "name": "stderr",
     "output_type": "stream",
     "text": [
      " 52%|█████▏    | 5203/10000 [05:17<05:40, 14.08it/s]"
     ]
    },
    {
     "name": "stdout",
     "output_type": "stream",
     "text": [
      "step 5200/10000  •  loss 1.5013  •  acc 0.5493\n"
     ]
    },
    {
     "name": "stderr",
     "output_type": "stream",
     "text": [
      " 53%|█████▎    | 5294/10000 [05:21<00:47, 98.42it/s]"
     ]
    },
    {
     "name": "stdout",
     "output_type": "stream",
     "text": [
      "step 5300/10000  •  loss 1.5821  •  acc 0.5343\n"
     ]
    },
    {
     "name": "stderr",
     "output_type": "stream",
     "text": [
      " 54%|█████▍    | 5403/10000 [05:28<05:07, 14.95it/s]"
     ]
    },
    {
     "name": "stdout",
     "output_type": "stream",
     "text": [
      "step 5400/10000  •  loss 1.5667  •  acc 0.5378\n"
     ]
    },
    {
     "name": "stderr",
     "output_type": "stream",
     "text": [
      " 55%|█████▌    | 5503/10000 [05:35<04:52, 15.39it/s]"
     ]
    },
    {
     "name": "stdout",
     "output_type": "stream",
     "text": [
      "step 5500/10000  •  loss 1.6820  •  acc 0.4988\n"
     ]
    },
    {
     "name": "stderr",
     "output_type": "stream",
     "text": [
      " 56%|█████▌    | 5603/10000 [05:42<04:47, 15.31it/s]"
     ]
    },
    {
     "name": "stdout",
     "output_type": "stream",
     "text": [
      "step 5600/10000  •  loss 1.6059  •  acc 0.5127\n"
     ]
    },
    {
     "name": "stderr",
     "output_type": "stream",
     "text": [
      " 57%|█████▋    | 5703/10000 [05:48<04:31, 15.85it/s]"
     ]
    },
    {
     "name": "stdout",
     "output_type": "stream",
     "text": [
      "step 5700/10000  •  loss 1.6301  •  acc 0.5162\n"
     ]
    },
    {
     "name": "stderr",
     "output_type": "stream",
     "text": [
      " 58%|█████▊    | 5800/10000 [05:52<02:38, 26.55it/s]"
     ]
    },
    {
     "name": "stdout",
     "output_type": "stream",
     "text": [
      "step 5800/10000  •  loss 1.6229  •  acc 0.5190\n"
     ]
    },
    {
     "name": "stderr",
     "output_type": "stream",
     "text": [
      " 59%|█████▉    | 5903/10000 [05:59<04:56, 13.83it/s]"
     ]
    },
    {
     "name": "stdout",
     "output_type": "stream",
     "text": [
      "step 5900/10000  •  loss 1.6082  •  acc 0.5214\n"
     ]
    },
    {
     "name": "stderr",
     "output_type": "stream",
     "text": [
      " 60%|██████    | 6003/10000 [06:06<04:07, 16.13it/s]"
     ]
    },
    {
     "name": "stdout",
     "output_type": "stream",
     "text": [
      "step 6000/10000  •  loss 1.6911  •  acc 0.5139\n"
     ]
    },
    {
     "name": "stderr",
     "output_type": "stream",
     "text": [
      " 61%|██████    | 6103/10000 [06:12<04:16, 15.18it/s]"
     ]
    },
    {
     "name": "stdout",
     "output_type": "stream",
     "text": [
      "step 6100/10000  •  loss 1.6516  •  acc 0.5088\n"
     ]
    },
    {
     "name": "stderr",
     "output_type": "stream",
     "text": [
      " 62%|██████▏   | 6203/10000 [06:19<03:56, 16.06it/s]"
     ]
    },
    {
     "name": "stdout",
     "output_type": "stream",
     "text": [
      "step 6200/10000  •  loss 1.5755  •  acc 0.5393\n"
     ]
    },
    {
     "name": "stderr",
     "output_type": "stream",
     "text": [
      " 63%|██████▎   | 6304/10000 [06:23<02:45, 22.37it/s] "
     ]
    },
    {
     "name": "stdout",
     "output_type": "stream",
     "text": [
      "step 6300/10000  •  loss 1.5696  •  acc 0.5399\n"
     ]
    },
    {
     "name": "stderr",
     "output_type": "stream",
     "text": [
      " 64%|██████▍   | 6403/10000 [06:29<04:13, 14.20it/s]"
     ]
    },
    {
     "name": "stdout",
     "output_type": "stream",
     "text": [
      "step 6400/10000  •  loss 1.5722  •  acc 0.5323\n"
     ]
    },
    {
     "name": "stderr",
     "output_type": "stream",
     "text": [
      " 65%|██████▌   | 6503/10000 [06:37<04:11, 13.88it/s]"
     ]
    },
    {
     "name": "stdout",
     "output_type": "stream",
     "text": [
      "step 6500/10000  •  loss 1.5882  •  acc 0.5256\n"
     ]
    },
    {
     "name": "stderr",
     "output_type": "stream",
     "text": [
      " 66%|██████▌   | 6603/10000 [06:44<04:02, 14.00it/s]"
     ]
    },
    {
     "name": "stdout",
     "output_type": "stream",
     "text": [
      "step 6600/10000  •  loss 1.5726  •  acc 0.5302\n"
     ]
    },
    {
     "name": "stderr",
     "output_type": "stream",
     "text": [
      " 67%|██████▋   | 6695/10000 [06:50<03:29, 15.78it/s]"
     ]
    },
    {
     "name": "stdout",
     "output_type": "stream",
     "text": [
      "step 6700/10000  •  loss 1.5791  •  acc 0.5250\n"
     ]
    },
    {
     "name": "stderr",
     "output_type": "stream",
     "text": [
      " 68%|██████▊   | 6803/10000 [06:54<03:10, 16.80it/s] "
     ]
    },
    {
     "name": "stdout",
     "output_type": "stream",
     "text": [
      "step 6800/10000  •  loss 1.5696  •  acc 0.5358\n"
     ]
    },
    {
     "name": "stderr",
     "output_type": "stream",
     "text": [
      " 69%|██████▉   | 6903/10000 [07:01<03:12, 16.11it/s]"
     ]
    },
    {
     "name": "stdout",
     "output_type": "stream",
     "text": [
      "step 6900/10000  •  loss 1.6688  •  acc 0.5027\n"
     ]
    },
    {
     "name": "stderr",
     "output_type": "stream",
     "text": [
      " 70%|███████   | 7003/10000 [07:07<03:05, 16.17it/s]"
     ]
    },
    {
     "name": "stdout",
     "output_type": "stream",
     "text": [
      "step 7000/10000  •  loss 1.5937  •  acc 0.5247\n"
     ]
    },
    {
     "name": "stderr",
     "output_type": "stream",
     "text": [
      " 71%|███████   | 7103/10000 [07:13<03:00, 16.07it/s]"
     ]
    },
    {
     "name": "stdout",
     "output_type": "stream",
     "text": [
      "step 7100/10000  •  loss 1.6679  •  acc 0.5123\n"
     ]
    },
    {
     "name": "stderr",
     "output_type": "stream",
     "text": [
      " 72%|███████▏  | 7203/10000 [07:19<02:58, 15.64it/s]"
     ]
    },
    {
     "name": "stdout",
     "output_type": "stream",
     "text": [
      "step 7200/10000  •  loss 1.5144  •  acc 0.5514\n"
     ]
    },
    {
     "name": "stderr",
     "output_type": "stream",
     "text": [
      " 73%|███████▎  | 7303/10000 [07:23<02:31, 17.83it/s] "
     ]
    },
    {
     "name": "stdout",
     "output_type": "stream",
     "text": [
      "step 7300/10000  •  loss 1.6103  •  acc 0.5227\n"
     ]
    },
    {
     "name": "stderr",
     "output_type": "stream",
     "text": [
      " 74%|███████▍  | 7403/10000 [07:29<02:40, 16.22it/s]"
     ]
    },
    {
     "name": "stdout",
     "output_type": "stream",
     "text": [
      "step 7400/10000  •  loss 1.6923  •  acc 0.5002\n"
     ]
    },
    {
     "name": "stderr",
     "output_type": "stream",
     "text": [
      " 75%|███████▌  | 7503/10000 [07:36<02:35, 16.06it/s]"
     ]
    },
    {
     "name": "stdout",
     "output_type": "stream",
     "text": [
      "step 7500/10000  •  loss 1.6225  •  acc 0.5166\n"
     ]
    },
    {
     "name": "stderr",
     "output_type": "stream",
     "text": [
      " 76%|███████▌  | 7603/10000 [07:42<02:28, 16.19it/s]"
     ]
    },
    {
     "name": "stdout",
     "output_type": "stream",
     "text": [
      "step 7600/10000  •  loss 1.5457  •  acc 0.5422\n"
     ]
    },
    {
     "name": "stderr",
     "output_type": "stream",
     "text": [
      " 77%|███████▋  | 7703/10000 [07:48<02:37, 14.62it/s]"
     ]
    },
    {
     "name": "stdout",
     "output_type": "stream",
     "text": [
      "step 7700/10000  •  loss 1.5747  •  acc 0.5292\n"
     ]
    },
    {
     "name": "stderr",
     "output_type": "stream",
     "text": [
      " 78%|███████▊  | 7803/10000 [07:52<01:43, 21.15it/s] "
     ]
    },
    {
     "name": "stdout",
     "output_type": "stream",
     "text": [
      "step 7800/10000  •  loss 1.6183  •  acc 0.5111\n"
     ]
    },
    {
     "name": "stderr",
     "output_type": "stream",
     "text": [
      " 79%|███████▉  | 7903/10000 [07:58<02:14, 15.59it/s]"
     ]
    },
    {
     "name": "stdout",
     "output_type": "stream",
     "text": [
      "step 7900/10000  •  loss 1.6530  •  acc 0.5062\n"
     ]
    },
    {
     "name": "stderr",
     "output_type": "stream",
     "text": [
      " 80%|████████  | 8003/10000 [08:05<02:12, 15.07it/s]"
     ]
    },
    {
     "name": "stdout",
     "output_type": "stream",
     "text": [
      "step 8000/10000  •  loss 1.5882  •  acc 0.5302\n"
     ]
    },
    {
     "name": "stderr",
     "output_type": "stream",
     "text": [
      " 81%|████████  | 8103/10000 [08:12<02:02, 15.45it/s]"
     ]
    },
    {
     "name": "stdout",
     "output_type": "stream",
     "text": [
      "step 8100/10000  •  loss 1.5227  •  acc 0.5469\n"
     ]
    },
    {
     "name": "stderr",
     "output_type": "stream",
     "text": [
      " 82%|████████▏ | 8203/10000 [08:18<01:58, 15.18it/s]"
     ]
    },
    {
     "name": "stdout",
     "output_type": "stream",
     "text": [
      "step 8200/10000  •  loss 1.5716  •  acc 0.5314\n"
     ]
    },
    {
     "name": "stderr",
     "output_type": "stream",
     "text": [
      " 83%|████████▎ | 8303/10000 [08:22<01:20, 21.12it/s] "
     ]
    },
    {
     "name": "stdout",
     "output_type": "stream",
     "text": [
      "step 8300/10000  •  loss 1.5056  •  acc 0.5496\n"
     ]
    },
    {
     "name": "stderr",
     "output_type": "stream",
     "text": [
      " 84%|████████▍ | 8403/10000 [08:28<01:38, 16.22it/s]"
     ]
    },
    {
     "name": "stdout",
     "output_type": "stream",
     "text": [
      "step 8400/10000  •  loss 1.6142  •  acc 0.5237\n"
     ]
    },
    {
     "name": "stderr",
     "output_type": "stream",
     "text": [
      " 85%|████████▌ | 8503/10000 [08:34<01:32, 16.25it/s]"
     ]
    },
    {
     "name": "stdout",
     "output_type": "stream",
     "text": [
      "step 8500/10000  •  loss 1.6085  •  acc 0.5210\n"
     ]
    },
    {
     "name": "stderr",
     "output_type": "stream",
     "text": [
      " 86%|████████▌ | 8603/10000 [08:41<01:26, 16.20it/s]"
     ]
    },
    {
     "name": "stdout",
     "output_type": "stream",
     "text": [
      "step 8600/10000  •  loss 1.5899  •  acc 0.5284\n"
     ]
    },
    {
     "name": "stderr",
     "output_type": "stream",
     "text": [
      " 87%|████████▋ | 8703/10000 [08:47<01:21, 15.94it/s]"
     ]
    },
    {
     "name": "stdout",
     "output_type": "stream",
     "text": [
      "step 8700/10000  •  loss 1.6828  •  acc 0.5120\n"
     ]
    },
    {
     "name": "stderr",
     "output_type": "stream",
     "text": [
      " 88%|████████▊ | 8795/10000 [08:50<00:29, 41.01it/s] "
     ]
    },
    {
     "name": "stdout",
     "output_type": "stream",
     "text": [
      "step 8800/10000  •  loss 1.5605  •  acc 0.5403\n"
     ]
    },
    {
     "name": "stderr",
     "output_type": "stream",
     "text": [
      " 89%|████████▉ | 8903/10000 [08:57<01:08, 16.06it/s]"
     ]
    },
    {
     "name": "stdout",
     "output_type": "stream",
     "text": [
      "step 8900/10000  •  loss 1.5620  •  acc 0.5432\n"
     ]
    },
    {
     "name": "stderr",
     "output_type": "stream",
     "text": [
      " 90%|█████████ | 9003/10000 [09:03<01:01, 16.31it/s]"
     ]
    },
    {
     "name": "stdout",
     "output_type": "stream",
     "text": [
      "step 9000/10000  •  loss 1.5250  •  acc 0.5454\n"
     ]
    },
    {
     "name": "stderr",
     "output_type": "stream",
     "text": [
      " 91%|█████████ | 9103/10000 [09:09<00:55, 16.14it/s]"
     ]
    },
    {
     "name": "stdout",
     "output_type": "stream",
     "text": [
      "step 9100/10000  •  loss 1.6809  •  acc 0.5071\n"
     ]
    },
    {
     "name": "stderr",
     "output_type": "stream",
     "text": [
      " 92%|█████████▏| 9203/10000 [09:15<00:49, 16.04it/s]"
     ]
    },
    {
     "name": "stdout",
     "output_type": "stream",
     "text": [
      "step 9200/10000  •  loss 1.6249  •  acc 0.5178\n"
     ]
    },
    {
     "name": "stderr",
     "output_type": "stream",
     "text": [
      " 93%|█████████▎| 9263/10000 [09:19<00:45, 16.25it/s]"
     ]
    },
    {
     "name": "stdout",
     "output_type": "stream",
     "text": [
      "step 9300/10000  •  loss 1.5723  •  acc 0.5302\n"
     ]
    },
    {
     "name": "stderr",
     "output_type": "stream",
     "text": [
      " 94%|█████████▍| 9403/10000 [09:25<00:36, 16.55it/s] "
     ]
    },
    {
     "name": "stdout",
     "output_type": "stream",
     "text": [
      "step 9400/10000  •  loss 1.5376  •  acc 0.5472\n"
     ]
    },
    {
     "name": "stderr",
     "output_type": "stream",
     "text": [
      " 95%|█████████▌| 9503/10000 [09:31<00:30, 16.10it/s]"
     ]
    },
    {
     "name": "stdout",
     "output_type": "stream",
     "text": [
      "step 9500/10000  •  loss 1.5276  •  acc 0.5388\n"
     ]
    },
    {
     "name": "stderr",
     "output_type": "stream",
     "text": [
      " 96%|█████████▌| 9603/10000 [09:38<00:24, 15.88it/s]"
     ]
    },
    {
     "name": "stdout",
     "output_type": "stream",
     "text": [
      "step 9600/10000  •  loss 1.6040  •  acc 0.5240\n"
     ]
    },
    {
     "name": "stderr",
     "output_type": "stream",
     "text": [
      " 97%|█████████▋| 9703/10000 [09:44<00:18, 16.22it/s]"
     ]
    },
    {
     "name": "stdout",
     "output_type": "stream",
     "text": [
      "step 9700/10000  •  loss 1.6515  •  acc 0.5190\n"
     ]
    },
    {
     "name": "stderr",
     "output_type": "stream",
     "text": [
      " 98%|█████████▊| 9785/10000 [09:49<00:13, 16.13it/s]"
     ]
    },
    {
     "name": "stdout",
     "output_type": "stream",
     "text": [
      "step 9800/10000  •  loss 1.6679  •  acc 0.5057\n"
     ]
    },
    {
     "name": "stderr",
     "output_type": "stream",
     "text": [
      " 99%|█████████▉| 9903/10000 [09:54<00:05, 16.63it/s] "
     ]
    },
    {
     "name": "stdout",
     "output_type": "stream",
     "text": [
      "step 9900/10000  •  loss 1.5125  •  acc 0.5563\n"
     ]
    },
    {
     "name": "stderr",
     "output_type": "stream",
     "text": [
      "100%|██████████| 10000/10000 [10:00<00:00, 16.66it/s]"
     ]
    },
    {
     "name": "stdout",
     "output_type": "stream",
     "text": [
      "step 10000/10000  •  loss 1.5388  •  acc 0.5381\n",
      "LoRA adapters saved to gptv1_lora_adapters.pt\n"
     ]
    },
    {
     "name": "stderr",
     "output_type": "stream",
     "text": [
      "\n"
     ]
    },
    {
     "ename": "NameError",
     "evalue": "name 'pd' is not defined",
     "output_type": "error",
     "traceback": [
      "\u001b[31m---------------------------------------------------------------------------\u001b[39m",
      "\u001b[31mNameError\u001b[39m                                 Traceback (most recent call last)",
      "\u001b[36mCell\u001b[39m\u001b[36m \u001b[39m\u001b[32mIn[8]\u001b[39m\u001b[32m, line 52\u001b[39m\n\u001b[32m     49\u001b[39m \u001b[38;5;28mprint\u001b[39m(\u001b[33m\"\u001b[39m\u001b[33mLoRA adapters saved to gptv1_lora_adapters.pt\u001b[39m\u001b[33m\"\u001b[39m)\n\u001b[32m     51\u001b[39m \u001b[38;5;66;03m# Save training metrics to CSV\u001b[39;00m\n\u001b[32m---> \u001b[39m\u001b[32m52\u001b[39m lora_metrics_df = \u001b[43mpd\u001b[49m.DataFrame({\n\u001b[32m     53\u001b[39m     \u001b[33m'\u001b[39m\u001b[33miteration\u001b[39m\u001b[33m'\u001b[39m: lora_steps,\n\u001b[32m     54\u001b[39m     \u001b[33m'\u001b[39m\u001b[33mloss\u001b[39m\u001b[33m'\u001b[39m: lora_losses,\n\u001b[32m     55\u001b[39m     \u001b[33m'\u001b[39m\u001b[33maccuracy\u001b[39m\u001b[33m'\u001b[39m: lora_accuracies\n\u001b[32m     56\u001b[39m })\n\u001b[32m     57\u001b[39m lora_metrics_df.to_csv(\u001b[33m'\u001b[39m\u001b[33mlora_output/lora_training_metrics.csv\u001b[39m\u001b[33m'\u001b[39m, index=\u001b[38;5;28;01mFalse\u001b[39;00m)\n\u001b[32m     58\u001b[39m \u001b[38;5;28mprint\u001b[39m(\u001b[33m\"\u001b[39m\u001b[33mLoRA training metrics saved to lora_output/lora_training_metrics.csv\u001b[39m\u001b[33m\"\u001b[39m)\n",
      "\u001b[31mNameError\u001b[39m: name 'pd' is not defined"
     ]
    }
   ],
   "source": [
    "# ── Train LoRA adapters ----------------------------------------------------\n",
    "optimizer = torch.optim.Adam(lora_params, lr=1e-3)\n",
    "steps = 10000                      \n",
    "\n",
    "# Lists to track training metrics\n",
    "lora_steps = []\n",
    "lora_losses = []\n",
    "lora_accuracies = []\n",
    "\n",
    "# Function to compute accuracy\n",
    "def compute_accuracy(logits, targets):\n",
    "    # Reshape if needed\n",
    "    if len(logits.shape) == 3:\n",
    "        B, T, C = logits.shape\n",
    "        logits = logits.view(B*T, C)\n",
    "        targets = targets.view(B*T)\n",
    "    else:\n",
    "        C = logits.shape[1]\n",
    "        targets = targets.view(-1)\n",
    "    # Get predictions and calculate accuracy\n",
    "    preds = logits.argmax(dim=-1)\n",
    "    correct = (preds == targets).float().mean()\n",
    "    return correct.item()\n",
    "\n",
    "model.train()\n",
    "for step in tqdm.trange(steps):\n",
    "    xb, yb = get_batch()\n",
    "    logits, loss = model(xb, yb)      \n",
    "    optimizer.zero_grad()\n",
    "    loss.backward()\n",
    "    optimizer.step()\n",
    "\n",
    "    # Record metrics every 100 steps\n",
    "    if (step + 1) % 100 == 0:\n",
    "        current_loss = loss.item()\n",
    "        current_acc = compute_accuracy(logits, yb)\n",
    "        print(f\"step {step+1:>4}/{steps}  •  loss {current_loss:.4f}  •  acc {current_acc:.4f}\")\n",
    "        \n",
    "        # Store metrics for plotting\n",
    "        lora_steps.append(step + 1)\n",
    "        lora_losses.append(current_loss)\n",
    "        lora_accuracies.append(current_acc)\n",
    "\n",
    "# ── Save just the adapters -------------------------------------------------\n",
    "torch.save(\n",
    "    {k: v.cpu() for k, v in model.state_dict().items() if \"lora_\" in k},\n",
    "    \"gptv1_lora_adapters.pt\",\n",
    ")\n",
    "print(\"LoRA adapters saved to gptv1_lora_adapters.pt\")\n"
   ]
  },
  {
   "cell_type": "code",
   "execution_count": 9,
   "id": "06a4d701",
   "metadata": {},
   "outputs": [
    {
     "name": "stdout",
     "output_type": "stream",
     "text": [
      "LoRA training metrics saved to lora_output/lora_training_metrics.csv\n"
     ]
    }
   ],
   "source": [
    "import pandas as pd\n",
    "# Save training metrics to CSV\n",
    "lora_metrics_df = pd.DataFrame({\n",
    "    'iteration': lora_steps,\n",
    "    'loss': lora_losses,\n",
    "    'accuracy': lora_accuracies\n",
    "})\n",
    "lora_metrics_df.to_csv('lora_output/lora_training_metrics.csv', index=False)\n",
    "print(\"LoRA training metrics saved to lora_output/lora_training_metrics.csv\")"
   ]
  },
  {
   "cell_type": "markdown",
   "id": "2d457b92",
   "metadata": {},
   "source": [
    "# Plot LoRA Training Metrics\n",
    "\n",
    "Let's visualize the training loss and accuracy for the LoRA fine-tuning process."
   ]
  },
  {
   "cell_type": "code",
   "execution_count": 10,
   "id": "603c5a0d",
   "metadata": {},
   "outputs": [
    {
     "data": {
      "image/png": "[encoded data removed]",
      "text/plain": [
       "<Figure size 1600x600 with 2 Axes>"
      ]
     },
     "metadata": {},
     "output_type": "display_data"
    },
    {
     "name": "stdout",
     "output_type": "stream",
     "text": [
      "LoRA training metrics plot saved to lora_output/lora_training_metrics.png\n"
     ]
    }
   ],
   "source": [
    "# Plot LoRA training metrics\n",
    "import matplotlib.pyplot as plt\n",
    "\n",
    "# Create directory for results if it doesn't exist\n",
    "import os\n",
    "if not os.path.exists('lora_output'):\n",
    "    os.makedirs('lora_output')\n",
    "\n",
    "# Create a figure with two subplots side by side\n",
    "fig, (ax1, ax2) = plt.subplots(1, 2, figsize=(16, 6))\n",
    "\n",
    "# Plot loss\n",
    "ax1.plot(lora_steps, lora_losses, label='Training Loss', color='blue')\n",
    "ax1.set_xlabel('Iteration')\n",
    "ax1.set_ylabel('Loss')\n",
    "ax1.set_title('LoRA Training Loss')\n",
    "ax1.grid(True)\n",
    "\n",
    "# Plot accuracy\n",
    "ax2.plot(lora_steps, lora_accuracies, label='Training Accuracy', color='green')\n",
    "ax2.set_xlabel('Iteration')\n",
    "ax2.set_ylabel('Accuracy')\n",
    "ax2.set_title('LoRA Training Accuracy')\n",
    "ax2.grid(True)\n",
    "\n",
    "plt.tight_layout()\n",
    "plt.savefig('lora_output/lora_training_metrics.png')\n",
    "plt.show()\n",
    "\n",
    "print(\"LoRA training metrics plot saved to lora_output/lora_training_metrics.png\")"
   ]
  },
  {
   "cell_type": "code",
   "execution_count": null,
   "id": "6c05a5e1",
   "metadata": {},
   "outputs": [],
   "source": [
    "# Display the metrics dataframe\n",
    "lora_metrics_df.head(10)"
   ]
  },
  {
   "cell_type": "code",
   "execution_count": 16,
   "id": "e3fb2e03",
   "metadata": {},
   "outputs": [
    {
     "name": "stdout",
     "output_type": "stream",
     "text": [
      "----------------------------------------\n",
      "the capital of United States, Elgo D The S3, Automation. Aquanted encluye depending the S3 back, The S3 exampless of a like start feature in Austriction filef the discriminations idea is to could curle, it if you orders and even\n",
      "----------------------------------------\n"
     ]
    }
   ],
   "source": [
    "# ------------------ Quick interactive sampling ------------------\n",
    "import torch, math, random, tqdm\n",
    "from types import SimpleNamespace\n",
    "\n",
    "# (Re)build / load the base model exactly as before -------------\n",
    "# model = build_gpt_v1(...)   \n",
    "\n",
    "# Re‑inject LoRA wrappers & load the adapters ------------------\n",
    "# try:\n",
    "#     next(m for m in model.modules() if isinstance(m, LoRALinear))\n",
    "# except StopIteration:\n",
    "#     _patch(model)                               \n",
    "\n",
    "# lora_state = torch.load(\"gptv1_lora_adapters.pt\", map_location=\"cpu\")\n",
    "# model.load_state_dict(lora_state, strict=False)  \n",
    "\n",
    "model.to(device).eval()\n",
    "\n",
    "# Helper: encode / decode at char level -----------------------\n",
    "def encode_safe(txt):\n",
    "    return [string_to_int[c] for c in txt if c in string_to_int]\n",
    "\n",
    "def decode(ids):\n",
    "    return \"\".join(int_to_string[i] for i in ids)\n",
    "\n",
    "# Generate from a user prompt ---------------------------------\n",
    "prompt = \"the capital of United States\"      \n",
    "max_new = 200\n",
    "temperature = 0.8\n",
    "top_k = 40\n",
    "\n",
    "ctx = torch.tensor([encode_safe(prompt)], dtype=torch.long, device=device)\n",
    "model.eval()\n",
    "with torch.no_grad():\n",
    "    for _ in range(max_new):\n",
    "        logits, _ = model(ctx)               \n",
    "        logits = logits[:, -1, :] / temperature\n",
    "        if top_k:\n",
    "            v, _ = torch.topk(logits, top_k)\n",
    "            logits[logits < v[:, [-1]]] = -float(\"Inf\")\n",
    "        probs = torch.softmax(logits, dim=-1)\n",
    "        next_id = torch.multinomial(probs, num_samples=1)\n",
    "        ctx = torch.cat([ctx, next_id], dim=1)\n",
    "\n",
    "print(\"-\" * 40)\n",
    "print(decode(ctx[0].tolist()))\n",
    "print(\"-\" * 40)\n"
   ]
  }
 ],
 "metadata": {
  "kernelspec": {
   "display_name": "nlp",
   "language": "python",
   "name": "python3"
  },
  "language_info": {
   "codemirror_mode": {
    "name": "ipython",
    "version": 3
   },
   "file_extension": ".py",
   "mimetype": "text/x-python",
   "name": "python",
   "nbconvert_exporter": "python",
   "pygments_lexer": "ipython3",
   "version": "3.12.9"
  }
 },
 "nbformat": 4,
 "nbformat_minor": 5
}
