{
 "cells": [
  {
   "cell_type": "markdown",
   "id": "99ca8237",
   "metadata": {},
   "source": [
    "## Data structure\n",
    "\n",
    "df_metrics = pd.DataFrame({\n",
    "    'iteration': itr_list,\n",
    "    'train_loss': train_loss_list,\n",
    "    'val_loss': val_loss_list,\n",
    "    'train_acc': train_acc_list,\n",
    "    'val_acc': val_acc_list\n",
    "})"
   ]
  },
  {
   "cell_type": "code",
   "execution_count": null,
   "id": "25867bf1",
   "metadata": {},
   "outputs": [],
   "source": [
    "import matplotlib.pyplot as plt\n",
    "\n",
    "# Create a figure with two subplots side by side\n",
    "fig, (ax1, ax2) = plt.subplots(1, 2, figsize=(15, 5))\n",
    "\n",
    "# Plot loss\n",
    "ax1.plot(itr_list, train_loss_list, label='Training Loss')\n",
    "ax1.plot(itr_list, val_loss_list, label='Validation Loss')\n",
    "ax1.set_xlabel('Iteration')\n",
    "ax1.set_ylabel('Loss')\n",
    "ax1.set_title('Training and Validation Loss (small dataset)')\n",
    "ax1.legend()\n",
    "ax1.grid(True)\n",
    "\n",
    "# Plot accuracy\n",
    "ax2.plot(itr_list, train_acc_list, label='Training Accuracy')\n",
    "ax2.plot(itr_list, val_acc_list, label='Validation Accuracy')\n",
    "ax2.set_xlabel('Iteration')\n",
    "ax2.set_ylabel('Accuracy')\n",
    "ax2.set_title('Training and Validation Accuracy (small dataset)')\n",
    "ax2.legend()\n",
    "ax2.grid(True)\n",
    "\n",
    "plt.tight_layout()\n",
    "plt.savefig('training_plot.png')\n",
    "plt.show()"
   ]
  }
 ],
 "metadata": {
  "language_info": {
   "name": "python"
  }
 },
 "nbformat": 4,
 "nbformat_minor": 5
}
